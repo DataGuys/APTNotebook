{
 "cells": [
  {
   "cell_type": "markdown",
   "id": "32914893",
   "metadata": {},
   "source": [
    "# 01_setup_environment – Sentinel APT Hunt\n",
    "\n",
    "This notebook installs required packages, authenticates to Azure, connects to Microsoft Sentinel through MSTICPy, and demonstrates a simple AutoEncoder-based anomaly‑detection model for APT hunting.\n"
   ]
  },
  {
   "cell_type": "markdown",
   "id": "d85d3280",
   "metadata": {},
   "source": [
    "## Install Python packages\n",
    "Run the cell below **once** (or whenever you update `requirements.txt`)."
   ]
  },
  {
   "cell_type": "code",
   "execution_count": null,
   "id": "f3b84385",
   "metadata": {},
   "outputs": [],
   "source": [
    "!pip install --quiet -r ../requirements.txt"
   ]
  },
  {
   "cell_type": "markdown",
   "id": "2f4ff020",
   "metadata": {},
   "source": [
    "## Authenticate to Azure"
   ]
  },
  {
   "cell_type": "code",
   "execution_count": null,
   "id": "279c12ab",
   "metadata": {},
   "outputs": [],
   "source": [
    "\n",
    "from msticpy.init import nbinit\n",
    "nbinit.init_notebook(\n",
    "    auth_methods=[\"cli\", \"msi\", \"devicecode\"],\n",
    "    verbose=False\n",
    ")\n",
    "print(\"MSTICPy initialized – authentication attempted using CLI/MSI/devicecode.\")\n"
   ]
  },
  {
   "cell_type": "markdown",
   "id": "70fef479",
   "metadata": {},
   "source": [
    "## Connect to Sentinel and run a test query"
   ]
  },
  {
   "cell_type": "code",
   "execution_count": null,
   "id": "1f85e2aa",
   "metadata": {},
   "outputs": [],
   "source": [
    "\n",
    "from msticpy.data import QueryProvider\n",
    "sentinel = QueryProvider(\"AzureSentinel\")\n",
    "sentinel.connect()\n",
    "df = sentinel.exec_query(\"SecurityEvent | take 5\")\n",
    "display(df)\n"
   ]
  },
  {
   "cell_type": "markdown",
   "id": "be0f9159",
   "metadata": {},
   "source": [
    "## Train an AutoEncoder model for anomaly detection"
   ]
  },
  {
   "cell_type": "code",
   "execution_count": null,
   "id": "0f3eb046",
   "metadata": {},
   "outputs": [],
   "source": [
    "\n",
    "import pandas as pd\n",
    "from pyod.models.auto_encoder_torch import AutoEncoder\n",
    "from sklearn.preprocessing import StandardScaler\n",
    "from sklearn.metrics import roc_auc_score\n",
    "\n",
    "# Example: fetch 30 days of process events\n",
    "proc_df = sentinel.exec_query(\"SecurityEvent | where TimeGenerated > ago(30d) | project TimeGenerated, EventID, Account, Computer\")\n",
    "if proc_df.empty:\n",
    "    print(\"No data returned – adjust the query to match your environment.\")\n",
    "else:\n",
    "    # Basic feature encoding – demo purposes only\n",
    "    proc_df = proc_df.fillna(\"missing\")\n",
    "    X = pd.get_dummies(proc_df[['EventID', 'Account', 'Computer']])\n",
    "    scaler = StandardScaler()\n",
    "    X_scaled = scaler.fit_transform(X)\n",
    "\n",
    "    model = AutoEncoder(epochs=20, contamination=0.01, hidden_neurons=[32, 16, 8, 16, 32])\n",
    "    model.fit(X_scaled)\n",
    "\n",
    "    scores = model.decision_scores_\n",
    "    proc_df['anomaly_score'] = scores\n",
    "    # Flag top 1 % anomalies\n",
    "    threshold = pd.Series(scores).quantile(0.99)\n",
    "    anomalies = proc_df[proc_df['anomaly_score'] >= threshold]\n",
    "    print(f\"Detected {len(anomalies)} high‑scoring anomalies:\")\n",
    "    display(anomalies.head())\n"
   ]
  }
 ],
 "metadata": {
  "kernelspec": {
   "display_name": "Python 3",
   "language": "python",
   "name": "python3"
  },
  "language_info": {
   "name": "python",
   "version": "3.11.8"
  }
 },
 "nbformat": 4,
 "nbformat_minor": 5
}
